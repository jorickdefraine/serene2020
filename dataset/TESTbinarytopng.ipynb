{
 "cells": [
  {
   "cell_type": "code",
   "execution_count": 2,
   "metadata": {},
   "outputs": [],
   "source": [
    "import numpy as np\n",
    "import matplotlib.pyplot as plt\n",
    "import matplotlib.image as mpimg\n",
    "from PIL import Image\n",
    "import glob\n",
    "import os"
   ]
  },
  {
   "cell_type": "code",
   "execution_count": 4,
   "metadata": {},
   "outputs": [],
   "source": [
    "train_file = open(\"train.bin\",\"rb\")\n",
    "test_file = open(\"test.bin\",\"rb\")\n",
    "\n",
    "train_num = list(train_file.read())\n",
    "test_num = list(test_file.read())"
   ]
  },
  {
   "cell_type": "code",
   "execution_count": 5,
   "metadata": {},
   "outputs": [
    {
     "name": "stdout",
     "output_type": "stream",
     "text": [
      "(32, 32)\n"
     ]
    }
   ],
   "source": [
    "association = ['0','1','2','3','4','5','6','7','8','9','A','D','G','H','M','N','O','X','.','space']\n",
    "\n",
    "for i in range (1):\n",
    "    image = np.array(train_num[i*617+1:(i+1)*617])\n",
    "    image.shape = (28,22)\n",
    "    image = np.pad(image,((2,2),(5,5))).astype(np.uint8)\n",
    "    img = Image.fromarray(image)\n",
    "    label = train_num[i*617]\n",
    "    classe = association[label]\n",
    "    print(image.shape)\n",
    "    #plt.imsave('train/'+classe+'/'+str(i)+'.png', image, cmap = 'Greys_r')"
   ]
  },
  {
   "cell_type": "code",
   "execution_count": 6,
   "metadata": {},
   "outputs": [
    {
     "name": "stdout",
     "output_type": "stream",
     "text": [
      "0.110213146\n",
      "0.20949593\n"
     ]
    }
   ],
   "source": [
    "image_list = []\n",
    "for filename in os.listdir('train'):\n",
    "    for subfilename in os.listdir('train/'+filename): #assuming gif\n",
    "        im=mpimg.imread('train/'+filename+'/'+subfilename)\n",
    "        image_list.append(im)\n",
    "\n",
    "print(np.mean(image_list))\n",
    "print(np.std(image_list))"
   ]
  },
  {
   "cell_type": "code",
   "execution_count": 7,
   "metadata": {},
   "outputs": [
    {
     "name": "stdout",
     "output_type": "stream",
     "text": [
      "0.110418096\n",
      "0.20961906\n"
     ]
    }
   ],
   "source": [
    "image_list = []\n",
    "for filename in os.listdir('test'):\n",
    "    for subfilename in os.listdir('test/'+filename): #assuming gif\n",
    "        im=mpimg.imread('test/'+filename+'/'+subfilename)\n",
    "        image_list.append(im)\n",
    "\n",
    "print(np.mean(image_list))\n",
    "print(np.std(image_list))"
   ]
  },
  {
   "cell_type": "code",
   "execution_count": null,
   "metadata": {},
   "outputs": [],
   "source": []
  }
 ],
 "metadata": {
  "kernelspec": {
   "display_name": "Python 3",
   "language": "python",
   "name": "python3"
  },
  "language_info": {
   "codemirror_mode": {
    "name": "ipython",
    "version": 3
   },
   "file_extension": ".py",
   "mimetype": "text/x-python",
   "name": "python",
   "nbconvert_exporter": "python",
   "pygments_lexer": "ipython3",
   "version": "3.7.6"
  }
 },
 "nbformat": 4,
 "nbformat_minor": 4
}
